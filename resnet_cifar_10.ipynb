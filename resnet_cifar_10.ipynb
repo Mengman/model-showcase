{
 "cells": [
  {
   "cell_type": "code",
   "execution_count": 1,
   "metadata": {},
   "outputs": [],
   "source": [
    "%matplotlib inline  \n",
    "import mxnet as mx\n",
    "import numpy as np\n",
    "import pickle\n",
    "import os\n",
    "import matplotlib.pyplot as plt\n",
    "\n",
    "from vision.cnn import resnet"
   ]
  },
  {
   "cell_type": "code",
   "execution_count": 2,
   "metadata": {},
   "outputs": [],
   "source": [
    "data_dir = '/home/ycli/Downloads/cifar-10/cifar-10-batches-py'\n",
    "\n",
    "train_files = ['data_batch_1', 'data_batch_2', 'data_batch_3', 'data_batch_4', 'data_batch_5']\n",
    "test_file = 'test_batch'"
   ]
  },
  {
   "cell_type": "code",
   "execution_count": 3,
   "metadata": {},
   "outputs": [],
   "source": [
    "data = []\n",
    "label = []\n",
    "\n",
    "for train_file in train_files:\n",
    "    with open(os.path.join(data_dir, train_file), 'rb') as fo:\n",
    "        tmp = pickle.load(fo, encoding='bytes')\n",
    "        data.append(np.reshape(tmp[b'data'], (tmp[b'data'].shape[0], 3, 32, 32)))\n",
    "        label.extend(tmp[b'labels'])"
   ]
  },
  {
   "cell_type": "code",
   "execution_count": 4,
   "metadata": {},
   "outputs": [],
   "source": [
    "data = np.concatenate(data, axis=0)"
   ]
  },
  {
   "cell_type": "code",
   "execution_count": 5,
   "metadata": {},
   "outputs": [
    {
     "data": {
      "text/plain": [
       "(50000, 3, 32, 32)"
      ]
     },
     "execution_count": 5,
     "metadata": {},
     "output_type": "execute_result"
    }
   ],
   "source": [
    "data.shape"
   ]
  },
  {
   "cell_type": "code",
   "execution_count": 6,
   "metadata": {},
   "outputs": [],
   "source": [
    "test_data = []\n",
    "test_label = []\n",
    "\n",
    "\n",
    "with open(os.path.join(data_dir, test_file), 'rb') as fo:\n",
    "        tmp = pickle.load(fo, encoding='bytes')\n",
    "        test_data = np.reshape(tmp[b'data'], (tmp[b'data'].shape[0], 3, 32, 32))\n",
    "        test_label = tmp[b'labels']"
   ]
  },
  {
   "cell_type": "code",
   "execution_count": 7,
   "metadata": {},
   "outputs": [],
   "source": [
    "oh_label = mx.nd.one_hot(mx.nd.array(label), 10)\n",
    "train_iter = mx.io.NDArrayIter(data, oh_label, batch_size=5, shuffle=True)\n",
    "oh_label = mx.nd.one_hot(mx.nd.array(test_label), 10)\n",
    "val_iter = mx.io.NDArrayIter(test_data,oh_label, batch_size=5)"
   ]
  },
  {
   "cell_type": "code",
   "execution_count": 8,
   "metadata": {},
   "outputs": [],
   "source": [
    "r18 = resnet.ResnetV1(resnet.residual_block_v1, [2, 2, 2, 2], [64, 64, 128, 256, 512], classes=10)\n",
    "\n",
    "r18_sym = mx.sym.SoftmaxOutput(data=r18.output)"
   ]
  },
  {
   "cell_type": "code",
   "execution_count": 9,
   "metadata": {},
   "outputs": [
    {
     "name": "stderr",
     "output_type": "stream",
     "text": [
      "/home/ycli/opt/miniconda3/envs/dl/lib/python3.5/site-packages/mxnet/module/base_module.py:55: UserWarning: \u001b[91mYou created Module with Module(..., label_names=['softmax_label']) but input with name 'softmax_label' is not found in symbol.list_arguments(). Did you mean one of:\n",
      "\tdata\n",
      "\tsoftmaxoutput0_label\u001b[0m\n",
      "  warnings.warn(msg)\n"
     ]
    }
   ],
   "source": [
    "r18_model = mx.mod.Module(symbol=r18_sym, context=mx.gpu(0))"
   ]
  },
  {
   "cell_type": "code",
   "execution_count": 10,
   "metadata": {
    "scrolled": false
   },
   "outputs": [
    {
     "ename": "RuntimeError",
     "evalue": "simple_bind error. Arguments:\nsoftmax_label: (5, 10)\ndata: (5, 3, 32, 32)\n[23:52:05] src/storage/storage.cc:119: Check failed: e == cudaSuccess || e == cudaErrorCudartUnloading CUDA: unknown error\n\nStack trace returned 10 entries:\n[bt] (0) /home/ycli/opt/miniconda3/envs/dl/lib/python3.5/site-packages/mxnet/libmxnet.so(+0x39008a) [0x7ff745cf308a]\n[bt] (1) /home/ycli/opt/miniconda3/envs/dl/lib/python3.5/site-packages/mxnet/libmxnet.so(+0x3906c1) [0x7ff745cf36c1]\n[bt] (2) /home/ycli/opt/miniconda3/envs/dl/lib/python3.5/site-packages/mxnet/libmxnet.so(+0x31aeebb) [0x7ff748b11ebb]\n[bt] (3) /home/ycli/opt/miniconda3/envs/dl/lib/python3.5/site-packages/mxnet/libmxnet.so(+0x31b2522) [0x7ff748b15522]\n[bt] (4) /home/ycli/opt/miniconda3/envs/dl/lib/python3.5/site-packages/mxnet/libmxnet.so(+0x31b3e4f) [0x7ff748b16e4f]\n[bt] (5) /home/ycli/opt/miniconda3/envs/dl/lib/python3.5/site-packages/mxnet/libmxnet.so(+0x2b1ee53) [0x7ff748481e53]\n[bt] (6) /home/ycli/opt/miniconda3/envs/dl/lib/python3.5/site-packages/mxnet/libmxnet.so(+0x2b1efcd) [0x7ff748481fcd]\n[bt] (7) /home/ycli/opt/miniconda3/envs/dl/lib/python3.5/site-packages/mxnet/libmxnet.so(+0x2b2cadf) [0x7ff74848fadf]\n[bt] (8) /home/ycli/opt/miniconda3/envs/dl/lib/python3.5/site-packages/mxnet/libmxnet.so(+0x2b33480) [0x7ff748496480]\n[bt] (9) /home/ycli/opt/miniconda3/envs/dl/lib/python3.5/site-packages/mxnet/libmxnet.so(+0x2b41a6e) [0x7ff7484a4a6e]\n\n",
     "output_type": "error",
     "traceback": [
      "\u001b[0;31m---------------------------------------------------------------------------\u001b[0m",
      "\u001b[0;31mMXNetError\u001b[0m                                Traceback (most recent call last)",
      "\u001b[0;32m~/opt/miniconda3/envs/dl/lib/python3.5/site-packages/mxnet/symbol/symbol.py\u001b[0m in \u001b[0;36msimple_bind\u001b[0;34m(self, ctx, grad_req, type_dict, stype_dict, group2ctx, shared_arg_names, shared_exec, shared_buffer, **kwargs)\u001b[0m\n\u001b[1;32m   1521\u001b[0m                                                  \u001b[0mshared_exec_handle\u001b[0m\u001b[0;34m,\u001b[0m\u001b[0;34m\u001b[0m\u001b[0m\n\u001b[0;32m-> 1522\u001b[0;31m                                                  ctypes.byref(exe_handle)))\n\u001b[0m\u001b[1;32m   1523\u001b[0m         \u001b[0;32mexcept\u001b[0m \u001b[0mMXNetError\u001b[0m \u001b[0;32mas\u001b[0m \u001b[0me\u001b[0m\u001b[0;34m:\u001b[0m\u001b[0;34m\u001b[0m\u001b[0m\n",
      "\u001b[0;32m~/opt/miniconda3/envs/dl/lib/python3.5/site-packages/mxnet/base.py\u001b[0m in \u001b[0;36mcheck_call\u001b[0;34m(ret)\u001b[0m\n\u001b[1;32m    250\u001b[0m     \u001b[0;32mif\u001b[0m \u001b[0mret\u001b[0m \u001b[0;34m!=\u001b[0m \u001b[0;36m0\u001b[0m\u001b[0;34m:\u001b[0m\u001b[0;34m\u001b[0m\u001b[0m\n\u001b[0;32m--> 251\u001b[0;31m         \u001b[0;32mraise\u001b[0m \u001b[0mMXNetError\u001b[0m\u001b[0;34m(\u001b[0m\u001b[0mpy_str\u001b[0m\u001b[0;34m(\u001b[0m\u001b[0m_LIB\u001b[0m\u001b[0;34m.\u001b[0m\u001b[0mMXGetLastError\u001b[0m\u001b[0;34m(\u001b[0m\u001b[0;34m)\u001b[0m\u001b[0;34m)\u001b[0m\u001b[0;34m)\u001b[0m\u001b[0;34m\u001b[0m\u001b[0m\n\u001b[0m\u001b[1;32m    252\u001b[0m \u001b[0;34m\u001b[0m\u001b[0m\n",
      "\u001b[0;31mMXNetError\u001b[0m: [23:52:05] src/storage/storage.cc:119: Check failed: e == cudaSuccess || e == cudaErrorCudartUnloading CUDA: unknown error\n\nStack trace returned 10 entries:\n[bt] (0) /home/ycli/opt/miniconda3/envs/dl/lib/python3.5/site-packages/mxnet/libmxnet.so(+0x39008a) [0x7ff745cf308a]\n[bt] (1) /home/ycli/opt/miniconda3/envs/dl/lib/python3.5/site-packages/mxnet/libmxnet.so(+0x3906c1) [0x7ff745cf36c1]\n[bt] (2) /home/ycli/opt/miniconda3/envs/dl/lib/python3.5/site-packages/mxnet/libmxnet.so(+0x31aeebb) [0x7ff748b11ebb]\n[bt] (3) /home/ycli/opt/miniconda3/envs/dl/lib/python3.5/site-packages/mxnet/libmxnet.so(+0x31b2522) [0x7ff748b15522]\n[bt] (4) /home/ycli/opt/miniconda3/envs/dl/lib/python3.5/site-packages/mxnet/libmxnet.so(+0x31b3e4f) [0x7ff748b16e4f]\n[bt] (5) /home/ycli/opt/miniconda3/envs/dl/lib/python3.5/site-packages/mxnet/libmxnet.so(+0x2b1ee53) [0x7ff748481e53]\n[bt] (6) /home/ycli/opt/miniconda3/envs/dl/lib/python3.5/site-packages/mxnet/libmxnet.so(+0x2b1efcd) [0x7ff748481fcd]\n[bt] (7) /home/ycli/opt/miniconda3/envs/dl/lib/python3.5/site-packages/mxnet/libmxnet.so(+0x2b2cadf) [0x7ff74848fadf]\n[bt] (8) /home/ycli/opt/miniconda3/envs/dl/lib/python3.5/site-packages/mxnet/libmxnet.so(+0x2b33480) [0x7ff748496480]\n[bt] (9) /home/ycli/opt/miniconda3/envs/dl/lib/python3.5/site-packages/mxnet/libmxnet.so(+0x2b41a6e) [0x7ff7484a4a6e]\n\n",
      "\nDuring handling of the above exception, another exception occurred:\n",
      "\u001b[0;31mRuntimeError\u001b[0m                              Traceback (most recent call last)",
      "\u001b[0;32m<ipython-input-10-8414710d4bad>\u001b[0m in \u001b[0;36m<module>\u001b[0;34m\u001b[0m\n\u001b[1;32m      2\u001b[0m               \u001b[0moptimizer_params\u001b[0m\u001b[0;34m=\u001b[0m\u001b[0;34m{\u001b[0m\u001b[0;34m'learning_rate'\u001b[0m\u001b[0;34m:\u001b[0m \u001b[0;36m0.1\u001b[0m\u001b[0;34m}\u001b[0m\u001b[0;34m,\u001b[0m \u001b[0meval_metric\u001b[0m\u001b[0;34m=\u001b[0m\u001b[0;34m'acc'\u001b[0m\u001b[0;34m,\u001b[0m\u001b[0;34m\u001b[0m\u001b[0m\n\u001b[1;32m      3\u001b[0m               \u001b[0mbatch_end_callback\u001b[0m \u001b[0;34m=\u001b[0m \u001b[0mmx\u001b[0m\u001b[0;34m.\u001b[0m\u001b[0mcallback\u001b[0m\u001b[0;34m.\u001b[0m\u001b[0mSpeedometer\u001b[0m\u001b[0;34m(\u001b[0m\u001b[0;36m5\u001b[0m\u001b[0;34m,\u001b[0m \u001b[0;36m100\u001b[0m\u001b[0;34m)\u001b[0m\u001b[0;34m,\u001b[0m\u001b[0;34m\u001b[0m\u001b[0m\n\u001b[0;32m----> 4\u001b[0;31m               epoch_end_callback = mx.callback.log_train_metric(period=200), num_epoch=3)\n\u001b[0m",
      "\u001b[0;32m~/opt/miniconda3/envs/dl/lib/python3.5/site-packages/mxnet/module/base_module.py\u001b[0m in \u001b[0;36mfit\u001b[0;34m(self, train_data, eval_data, eval_metric, epoch_end_callback, batch_end_callback, kvstore, optimizer, optimizer_params, eval_end_callback, eval_batch_end_callback, initializer, arg_params, aux_params, allow_missing, force_rebind, force_init, begin_epoch, num_epoch, validation_metric, monitor, sparse_row_id_fn)\u001b[0m\n\u001b[1;32m    496\u001b[0m \u001b[0;34m\u001b[0m\u001b[0m\n\u001b[1;32m    497\u001b[0m         self.bind(data_shapes=train_data.provide_data, label_shapes=train_data.provide_label,\n\u001b[0;32m--> 498\u001b[0;31m                   for_training=True, force_rebind=force_rebind)\n\u001b[0m\u001b[1;32m    499\u001b[0m         \u001b[0;32mif\u001b[0m \u001b[0mmonitor\u001b[0m \u001b[0;32mis\u001b[0m \u001b[0;32mnot\u001b[0m \u001b[0;32mNone\u001b[0m\u001b[0;34m:\u001b[0m\u001b[0;34m\u001b[0m\u001b[0m\n\u001b[1;32m    500\u001b[0m             \u001b[0mself\u001b[0m\u001b[0;34m.\u001b[0m\u001b[0minstall_monitor\u001b[0m\u001b[0;34m(\u001b[0m\u001b[0mmonitor\u001b[0m\u001b[0;34m)\u001b[0m\u001b[0;34m\u001b[0m\u001b[0m\n",
      "\u001b[0;32m~/opt/miniconda3/envs/dl/lib/python3.5/site-packages/mxnet/module/module.py\u001b[0m in \u001b[0;36mbind\u001b[0;34m(self, data_shapes, label_shapes, for_training, inputs_need_grad, force_rebind, shared_module, grad_req)\u001b[0m\n\u001b[1;32m    427\u001b[0m                                                      \u001b[0mfixed_param_names\u001b[0m\u001b[0;34m=\u001b[0m\u001b[0mself\u001b[0m\u001b[0;34m.\u001b[0m\u001b[0m_fixed_param_names\u001b[0m\u001b[0;34m,\u001b[0m\u001b[0;34m\u001b[0m\u001b[0m\n\u001b[1;32m    428\u001b[0m                                                      \u001b[0mgrad_req\u001b[0m\u001b[0;34m=\u001b[0m\u001b[0mgrad_req\u001b[0m\u001b[0;34m,\u001b[0m \u001b[0mgroup2ctxs\u001b[0m\u001b[0;34m=\u001b[0m\u001b[0mself\u001b[0m\u001b[0;34m.\u001b[0m\u001b[0m_group2ctxs\u001b[0m\u001b[0;34m,\u001b[0m\u001b[0;34m\u001b[0m\u001b[0m\n\u001b[0;32m--> 429\u001b[0;31m                                                      state_names=self._state_names)\n\u001b[0m\u001b[1;32m    430\u001b[0m         \u001b[0mself\u001b[0m\u001b[0;34m.\u001b[0m\u001b[0m_total_exec_bytes\u001b[0m \u001b[0;34m=\u001b[0m \u001b[0mself\u001b[0m\u001b[0;34m.\u001b[0m\u001b[0m_exec_group\u001b[0m\u001b[0;34m.\u001b[0m\u001b[0m_total_exec_bytes\u001b[0m\u001b[0;34m\u001b[0m\u001b[0m\n\u001b[1;32m    431\u001b[0m         \u001b[0;32mif\u001b[0m \u001b[0mshared_module\u001b[0m \u001b[0;32mis\u001b[0m \u001b[0;32mnot\u001b[0m \u001b[0;32mNone\u001b[0m\u001b[0;34m:\u001b[0m\u001b[0;34m\u001b[0m\u001b[0m\n",
      "\u001b[0;32m~/opt/miniconda3/envs/dl/lib/python3.5/site-packages/mxnet/module/executor_group.py\u001b[0m in \u001b[0;36m__init__\u001b[0;34m(self, symbol, contexts, workload, data_shapes, label_shapes, param_names, for_training, inputs_need_grad, shared_group, logger, fixed_param_names, grad_req, state_names, group2ctxs)\u001b[0m\n\u001b[1;32m    277\u001b[0m         \u001b[0mself\u001b[0m\u001b[0;34m.\u001b[0m\u001b[0mnum_outputs\u001b[0m \u001b[0;34m=\u001b[0m \u001b[0mlen\u001b[0m\u001b[0;34m(\u001b[0m\u001b[0mself\u001b[0m\u001b[0;34m.\u001b[0m\u001b[0msymbol\u001b[0m\u001b[0;34m.\u001b[0m\u001b[0mlist_outputs\u001b[0m\u001b[0;34m(\u001b[0m\u001b[0;34m)\u001b[0m\u001b[0;34m)\u001b[0m\u001b[0;34m\u001b[0m\u001b[0m\n\u001b[1;32m    278\u001b[0m \u001b[0;34m\u001b[0m\u001b[0m\n\u001b[0;32m--> 279\u001b[0;31m         \u001b[0mself\u001b[0m\u001b[0;34m.\u001b[0m\u001b[0mbind_exec\u001b[0m\u001b[0;34m(\u001b[0m\u001b[0mdata_shapes\u001b[0m\u001b[0;34m,\u001b[0m \u001b[0mlabel_shapes\u001b[0m\u001b[0;34m,\u001b[0m \u001b[0mshared_group\u001b[0m\u001b[0;34m)\u001b[0m\u001b[0;34m\u001b[0m\u001b[0m\n\u001b[0m\u001b[1;32m    280\u001b[0m \u001b[0;34m\u001b[0m\u001b[0m\n\u001b[1;32m    281\u001b[0m     \u001b[0;32mdef\u001b[0m \u001b[0mdecide_slices\u001b[0m\u001b[0;34m(\u001b[0m\u001b[0mself\u001b[0m\u001b[0;34m,\u001b[0m \u001b[0mdata_shapes\u001b[0m\u001b[0;34m)\u001b[0m\u001b[0;34m:\u001b[0m\u001b[0;34m\u001b[0m\u001b[0m\n",
      "\u001b[0;32m~/opt/miniconda3/envs/dl/lib/python3.5/site-packages/mxnet/module/executor_group.py\u001b[0m in \u001b[0;36mbind_exec\u001b[0;34m(self, data_shapes, label_shapes, shared_group, reshape)\u001b[0m\n\u001b[1;32m    373\u001b[0m             \u001b[0;32melse\u001b[0m\u001b[0;34m:\u001b[0m\u001b[0;34m\u001b[0m\u001b[0m\n\u001b[1;32m    374\u001b[0m                 self.execs.append(self._bind_ith_exec(i, data_shapes_i, label_shapes_i,\n\u001b[0;32m--> 375\u001b[0;31m                                                       shared_group))\n\u001b[0m\u001b[1;32m    376\u001b[0m \u001b[0;34m\u001b[0m\u001b[0m\n\u001b[1;32m    377\u001b[0m         \u001b[0mself\u001b[0m\u001b[0;34m.\u001b[0m\u001b[0mdata_shapes\u001b[0m \u001b[0;34m=\u001b[0m \u001b[0mdata_shapes\u001b[0m\u001b[0;34m\u001b[0m\u001b[0m\n",
      "\u001b[0;32m~/opt/miniconda3/envs/dl/lib/python3.5/site-packages/mxnet/module/executor_group.py\u001b[0m in \u001b[0;36m_bind_ith_exec\u001b[0;34m(self, i, data_shapes, label_shapes, shared_group)\u001b[0m\n\u001b[1;32m    660\u001b[0m                                            \u001b[0mtype_dict\u001b[0m\u001b[0;34m=\u001b[0m\u001b[0minput_types\u001b[0m\u001b[0;34m,\u001b[0m \u001b[0mshared_arg_names\u001b[0m\u001b[0;34m=\u001b[0m\u001b[0mself\u001b[0m\u001b[0;34m.\u001b[0m\u001b[0mparam_names\u001b[0m\u001b[0;34m,\u001b[0m\u001b[0;34m\u001b[0m\u001b[0m\n\u001b[1;32m    661\u001b[0m                                            \u001b[0mshared_exec\u001b[0m\u001b[0;34m=\u001b[0m\u001b[0mshared_exec\u001b[0m\u001b[0;34m,\u001b[0m \u001b[0mgroup2ctx\u001b[0m\u001b[0;34m=\u001b[0m\u001b[0mgroup2ctx\u001b[0m\u001b[0;34m,\u001b[0m\u001b[0;34m\u001b[0m\u001b[0m\n\u001b[0;32m--> 662\u001b[0;31m                                            shared_buffer=shared_data_arrays, **input_shapes)\n\u001b[0m\u001b[1;32m    663\u001b[0m         \u001b[0mself\u001b[0m\u001b[0;34m.\u001b[0m\u001b[0m_total_exec_bytes\u001b[0m \u001b[0;34m+=\u001b[0m \u001b[0mint\u001b[0m\u001b[0;34m(\u001b[0m\u001b[0mexecutor\u001b[0m\u001b[0;34m.\u001b[0m\u001b[0mdebug_str\u001b[0m\u001b[0;34m(\u001b[0m\u001b[0;34m)\u001b[0m\u001b[0;34m.\u001b[0m\u001b[0msplit\u001b[0m\u001b[0;34m(\u001b[0m\u001b[0;34m'\\n'\u001b[0m\u001b[0;34m)\u001b[0m\u001b[0;34m[\u001b[0m\u001b[0;34m-\u001b[0m\u001b[0;36m3\u001b[0m\u001b[0;34m]\u001b[0m\u001b[0;34m.\u001b[0m\u001b[0msplit\u001b[0m\u001b[0;34m(\u001b[0m\u001b[0;34m)\u001b[0m\u001b[0;34m[\u001b[0m\u001b[0;36m1\u001b[0m\u001b[0;34m]\u001b[0m\u001b[0;34m)\u001b[0m\u001b[0;34m\u001b[0m\u001b[0m\n\u001b[1;32m    664\u001b[0m         \u001b[0;32mreturn\u001b[0m \u001b[0mexecutor\u001b[0m\u001b[0;34m\u001b[0m\u001b[0m\n",
      "\u001b[0;32m~/opt/miniconda3/envs/dl/lib/python3.5/site-packages/mxnet/symbol/symbol.py\u001b[0m in \u001b[0;36msimple_bind\u001b[0;34m(self, ctx, grad_req, type_dict, stype_dict, group2ctx, shared_arg_names, shared_exec, shared_buffer, **kwargs)\u001b[0m\n\u001b[1;32m   1526\u001b[0m                 \u001b[0merror_msg\u001b[0m \u001b[0;34m+=\u001b[0m \u001b[0;34m\"%s: %s\\n\"\u001b[0m \u001b[0;34m%\u001b[0m \u001b[0;34m(\u001b[0m\u001b[0mk\u001b[0m\u001b[0;34m,\u001b[0m \u001b[0mv\u001b[0m\u001b[0;34m)\u001b[0m\u001b[0;34m\u001b[0m\u001b[0m\n\u001b[1;32m   1527\u001b[0m             \u001b[0merror_msg\u001b[0m \u001b[0;34m+=\u001b[0m \u001b[0;34m\"%s\"\u001b[0m \u001b[0;34m%\u001b[0m \u001b[0me\u001b[0m\u001b[0;34m\u001b[0m\u001b[0m\n\u001b[0;32m-> 1528\u001b[0;31m             \u001b[0;32mraise\u001b[0m \u001b[0mRuntimeError\u001b[0m\u001b[0;34m(\u001b[0m\u001b[0merror_msg\u001b[0m\u001b[0;34m)\u001b[0m\u001b[0;34m\u001b[0m\u001b[0m\n\u001b[0m\u001b[1;32m   1529\u001b[0m \u001b[0;34m\u001b[0m\u001b[0m\n\u001b[1;32m   1530\u001b[0m         \u001b[0;31m# update shared_buffer\u001b[0m\u001b[0;34m\u001b[0m\u001b[0;34m\u001b[0m\u001b[0m\n",
      "\u001b[0;31mRuntimeError\u001b[0m: simple_bind error. Arguments:\nsoftmax_label: (5, 10)\ndata: (5, 3, 32, 32)\n[23:52:05] src/storage/storage.cc:119: Check failed: e == cudaSuccess || e == cudaErrorCudartUnloading CUDA: unknown error\n\nStack trace returned 10 entries:\n[bt] (0) /home/ycli/opt/miniconda3/envs/dl/lib/python3.5/site-packages/mxnet/libmxnet.so(+0x39008a) [0x7ff745cf308a]\n[bt] (1) /home/ycli/opt/miniconda3/envs/dl/lib/python3.5/site-packages/mxnet/libmxnet.so(+0x3906c1) [0x7ff745cf36c1]\n[bt] (2) /home/ycli/opt/miniconda3/envs/dl/lib/python3.5/site-packages/mxnet/libmxnet.so(+0x31aeebb) [0x7ff748b11ebb]\n[bt] (3) /home/ycli/opt/miniconda3/envs/dl/lib/python3.5/site-packages/mxnet/libmxnet.so(+0x31b2522) [0x7ff748b15522]\n[bt] (4) /home/ycli/opt/miniconda3/envs/dl/lib/python3.5/site-packages/mxnet/libmxnet.so(+0x31b3e4f) [0x7ff748b16e4f]\n[bt] (5) /home/ycli/opt/miniconda3/envs/dl/lib/python3.5/site-packages/mxnet/libmxnet.so(+0x2b1ee53) [0x7ff748481e53]\n[bt] (6) /home/ycli/opt/miniconda3/envs/dl/lib/python3.5/site-packages/mxnet/libmxnet.so(+0x2b1efcd) [0x7ff748481fcd]\n[bt] (7) /home/ycli/opt/miniconda3/envs/dl/lib/python3.5/site-packages/mxnet/libmxnet.so(+0x2b2cadf) [0x7ff74848fadf]\n[bt] (8) /home/ycli/opt/miniconda3/envs/dl/lib/python3.5/site-packages/mxnet/libmxnet.so(+0x2b33480) [0x7ff748496480]\n[bt] (9) /home/ycli/opt/miniconda3/envs/dl/lib/python3.5/site-packages/mxnet/libmxnet.so(+0x2b41a6e) [0x7ff7484a4a6e]\n\n"
     ]
    }
   ],
   "source": [
    "r18_model.fit(train_data=train_iter, eval_data=val_iter, optimizer='sgd', \n",
    "              optimizer_params={'learning_rate': 0.1}, eval_metric='acc', \n",
    "              batch_end_callback = mx.callback.Speedometer(5, 100),\n",
    "              epoch_end_callback = mx.callback.log_train_metric(period=200), num_epoch=3)"
   ]
  },
  {
   "cell_type": "code",
   "execution_count": null,
   "metadata": {},
   "outputs": [],
   "source": []
  }
 ],
 "metadata": {
  "kernelspec": {
   "display_name": "Python 3",
   "language": "python",
   "name": "python3"
  },
  "language_info": {
   "codemirror_mode": {
    "name": "ipython",
    "version": 3
   },
   "file_extension": ".py",
   "mimetype": "text/x-python",
   "name": "python",
   "nbconvert_exporter": "python",
   "pygments_lexer": "ipython3",
   "version": "3.5.6"
  },
  "widgets": {
   "state": {},
   "version": "1.1.2"
  }
 },
 "nbformat": 4,
 "nbformat_minor": 2
}
