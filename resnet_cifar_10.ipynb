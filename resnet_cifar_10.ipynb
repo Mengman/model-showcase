{
 "cells": [
  {
   "cell_type": "code",
   "execution_count": 1,
   "metadata": {},
   "outputs": [],
   "source": [
    "%matplotlib inline  \n",
    "import mxnet as mx\n",
    "import numpy as np\n",
    "import pickle\n",
    "import os\n",
    "import matplotlib.pyplot as plt\n",
    "\n",
    "from vision.cnn import resnet"
   ]
  },
  {
   "cell_type": "code",
   "execution_count": 2,
   "metadata": {},
   "outputs": [],
   "source": [
    "data_dir = '/media/tx-deepocean/Data/dataset/cifar10/cifar-10-batches-py'\n",
    "\n",
    "train_files = ['data_batch_1', 'data_batch_2', 'data_batch_3', 'data_batch_4', 'data_batch_5']\n",
    "test_file = 'test_batch'"
   ]
  },
  {
   "cell_type": "code",
   "execution_count": 3,
   "metadata": {},
   "outputs": [],
   "source": [
    "data = []\n",
    "label = []\n",
    "\n",
    "for train_file in train_files:\n",
    "    with open(os.path.join(data_dir, train_file), 'rb') as fo:\n",
    "        tmp = pickle.load(fo, encoding='bytes')\n",
    "        data.append(np.reshape(tmp[b'data'], (tmp[b'data'].shape[0], 3, 32, 32)))\n",
    "        label.extend(tmp[b'labels'])"
   ]
  },
  {
   "cell_type": "code",
   "execution_count": 4,
   "metadata": {},
   "outputs": [],
   "source": [
    "data = np.concatenate(data, axis=0)"
   ]
  },
  {
   "cell_type": "code",
   "execution_count": 5,
   "metadata": {},
   "outputs": [
    {
     "data": {
      "text/plain": [
       "(50000, 3, 32, 32)"
      ]
     },
     "execution_count": 5,
     "metadata": {},
     "output_type": "execute_result"
    }
   ],
   "source": [
    "data.shape"
   ]
  },
  {
   "cell_type": "code",
   "execution_count": 6,
   "metadata": {},
   "outputs": [],
   "source": [
    "test_data = []\n",
    "test_label = []\n",
    "\n",
    "with open(os.path.join(data_dir, test_file), 'rb') as fo:\n",
    "        tmp = pickle.load(fo, encoding='bytes')\n",
    "        test_data = np.reshape(tmp[b'data'], (tmp[b'data'].shape[0], 3, 32, 32))\n",
    "        test_label = tmp[b'labels']"
   ]
  },
  {
   "cell_type": "code",
   "execution_count": 20,
   "metadata": {},
   "outputs": [],
   "source": [
    "batch_size = 500\n",
    "oh_label = mx.nd.one_hot(mx.nd.array(label), 10)\n",
    "train_iter = mx.io.NDArrayIter(data, oh_label, batch_size=batch_size, shuffle=True)\n",
    "oh_label = mx.nd.one_hot(mx.nd.array(test_label), 10)\n",
    "val_iter = mx.io.NDArrayIter(test_data,oh_label, batch_size=batch_size)"
   ]
  },
  {
   "cell_type": "code",
   "execution_count": 21,
   "metadata": {},
   "outputs": [],
   "source": [
    "r18 = resnet.ResnetV1(resnet.residual_block_v1, [2, 2, 2, 2], [64, 64, 128, 256, 512], classes=10)\n",
    "\n",
    "r18_sym = mx.sym.SoftmaxOutput(data=r18.output, name='softmax')"
   ]
  },
  {
   "cell_type": "code",
   "execution_count": 22,
   "metadata": {},
   "outputs": [],
   "source": [
    "r18_model = mx.mod.Module(symbol=r18_sym, context=[mx.gpu(0),mx.gpu(1)])"
   ]
  },
  {
   "cell_type": "code",
   "execution_count": 23,
   "metadata": {
    "scrolled": false
   },
   "outputs": [
    {
     "name": "stderr",
     "output_type": "stream",
     "text": [
      "INFO:root:Epoch[0] Batch [50]\tSpeed: 1686.28 samples/sec\taccuracy=0.900000\n",
      "INFO:root:Epoch[0] Batch [100]\tSpeed: 1691.39 samples/sec\taccuracy=0.900000\n",
      "INFO:root:Epoch[0] Batch [150]\tSpeed: 1694.32 samples/sec\taccuracy=0.900000\n",
      "INFO:root:Epoch[0] Batch [200]\tSpeed: 1675.59 samples/sec\taccuracy=0.900000\n",
      "INFO:root:Epoch[0] Batch [250]\tSpeed: 1674.95 samples/sec\taccuracy=0.900000\n",
      "INFO:root:Epoch[0] Batch [300]\tSpeed: 1682.42 samples/sec\taccuracy=0.900000\n",
      "INFO:root:Epoch[0] Batch [350]\tSpeed: 1685.53 samples/sec\taccuracy=0.900000\n",
      "INFO:root:Epoch[0] Batch [400]\tSpeed: 1677.96 samples/sec\taccuracy=0.900000\n",
      "INFO:root:Epoch[0] Batch [450]\tSpeed: 1699.39 samples/sec\taccuracy=0.900000\n",
      "INFO:root:Epoch[0] Batch [500]\tSpeed: 1679.60 samples/sec\taccuracy=0.900000\n",
      "INFO:root:Epoch[0] Batch [550]\tSpeed: 1676.52 samples/sec\taccuracy=0.900000\n",
      "INFO:root:Epoch[0] Batch [600]\tSpeed: 1684.19 samples/sec\taccuracy=0.900000\n",
      "INFO:root:Epoch[0] Batch [650]\tSpeed: 1683.93 samples/sec\taccuracy=0.900000\n",
      "INFO:root:Epoch[0] Batch [700]\tSpeed: 1684.74 samples/sec\taccuracy=0.900000\n",
      "INFO:root:Epoch[0] Batch [750]\tSpeed: 1686.18 samples/sec\taccuracy=0.900000\n",
      "INFO:root:Epoch[0] Batch [800]\tSpeed: 1678.21 samples/sec\taccuracy=0.900000\n",
      "INFO:root:Epoch[0] Batch [850]\tSpeed: 1680.64 samples/sec\taccuracy=0.900000\n",
      "INFO:root:Epoch[0] Batch [900]\tSpeed: 1682.66 samples/sec\taccuracy=0.900000\n",
      "INFO:root:Epoch[0] Batch [950]\tSpeed: 1679.25 samples/sec\taccuracy=0.900000\n",
      "INFO:root:Epoch[0] Train-accuracy=0.900000\n",
      "INFO:root:Epoch[0] Time cost=30.016\n",
      "INFO:root:Epoch[0] Validation-accuracy=0.900000\n",
      "INFO:root:Epoch[1] Batch [50]\tSpeed: 1674.04 samples/sec\taccuracy=0.900000\n",
      "INFO:root:Epoch[1] Batch [100]\tSpeed: 1662.60 samples/sec\taccuracy=0.900000\n",
      "INFO:root:Epoch[1] Batch [150]\tSpeed: 1693.06 samples/sec\taccuracy=0.900000\n",
      "INFO:root:Epoch[1] Batch [200]\tSpeed: 1687.17 samples/sec\taccuracy=0.900000\n",
      "INFO:root:Epoch[1] Batch [250]\tSpeed: 1705.18 samples/sec\taccuracy=0.900000\n",
      "INFO:root:Epoch[1] Batch [300]\tSpeed: 1683.24 samples/sec\taccuracy=0.900000\n",
      "INFO:root:Epoch[1] Batch [350]\tSpeed: 1660.89 samples/sec\taccuracy=0.900000\n",
      "INFO:root:Epoch[1] Batch [400]\tSpeed: 1668.60 samples/sec\taccuracy=0.900000\n",
      "INFO:root:Epoch[1] Batch [450]\tSpeed: 1648.77 samples/sec\taccuracy=0.900000\n",
      "INFO:root:Epoch[1] Batch [500]\tSpeed: 1639.27 samples/sec\taccuracy=0.900000\n",
      "INFO:root:Epoch[1] Batch [550]\tSpeed: 1653.37 samples/sec\taccuracy=0.900000\n",
      "INFO:root:Epoch[1] Batch [600]\tSpeed: 1672.03 samples/sec\taccuracy=0.900000\n",
      "INFO:root:Epoch[1] Batch [650]\tSpeed: 1673.20 samples/sec\taccuracy=0.900000\n",
      "INFO:root:Epoch[1] Batch [700]\tSpeed: 1684.97 samples/sec\taccuracy=0.900000\n",
      "INFO:root:Epoch[1] Batch [750]\tSpeed: 1668.75 samples/sec\taccuracy=0.900000\n",
      "INFO:root:Epoch[1] Batch [800]\tSpeed: 1658.01 samples/sec\taccuracy=0.900000\n",
      "INFO:root:Epoch[1] Batch [850]\tSpeed: 1686.91 samples/sec\taccuracy=0.900000\n",
      "INFO:root:Epoch[1] Batch [900]\tSpeed: 1671.50 samples/sec\taccuracy=0.900000\n",
      "INFO:root:Epoch[1] Batch [950]\tSpeed: 1677.74 samples/sec\taccuracy=0.900000\n",
      "INFO:root:Epoch[1] Train-accuracy=0.900000\n",
      "INFO:root:Epoch[1] Time cost=29.899\n",
      "INFO:root:Epoch[1] Validation-accuracy=0.900000\n",
      "INFO:root:Epoch[2] Batch [50]\tSpeed: 1682.71 samples/sec\taccuracy=0.900000\n",
      "INFO:root:Epoch[2] Batch [100]\tSpeed: 1684.89 samples/sec\taccuracy=0.900000\n",
      "INFO:root:Epoch[2] Batch [150]\tSpeed: 1669.81 samples/sec\taccuracy=0.900000\n",
      "INFO:root:Epoch[2] Batch [200]\tSpeed: 1688.51 samples/sec\taccuracy=0.900000\n",
      "INFO:root:Epoch[2] Batch [250]\tSpeed: 1687.35 samples/sec\taccuracy=0.900000\n",
      "INFO:root:Epoch[2] Batch [300]\tSpeed: 1694.47 samples/sec\taccuracy=0.900000\n",
      "INFO:root:Epoch[2] Batch [350]\tSpeed: 1684.46 samples/sec\taccuracy=0.900000\n",
      "INFO:root:Epoch[2] Batch [400]\tSpeed: 1667.07 samples/sec\taccuracy=0.900000\n",
      "INFO:root:Epoch[2] Batch [450]\tSpeed: 1696.55 samples/sec\taccuracy=0.900000\n",
      "INFO:root:Epoch[2] Batch [500]\tSpeed: 1682.33 samples/sec\taccuracy=0.900000\n",
      "INFO:root:Epoch[2] Batch [550]\tSpeed: 1680.58 samples/sec\taccuracy=0.900000\n",
      "INFO:root:Epoch[2] Batch [600]\tSpeed: 1687.25 samples/sec\taccuracy=0.900000\n",
      "INFO:root:Epoch[2] Batch [650]\tSpeed: 1688.01 samples/sec\taccuracy=0.900000\n",
      "INFO:root:Epoch[2] Batch [700]\tSpeed: 1682.70 samples/sec\taccuracy=0.900000\n",
      "INFO:root:Epoch[2] Batch [750]\tSpeed: 1683.71 samples/sec\taccuracy=0.900000\n",
      "INFO:root:Epoch[2] Batch [800]\tSpeed: 1643.11 samples/sec\taccuracy=0.900000\n",
      "INFO:root:Epoch[2] Batch [850]\tSpeed: 1680.51 samples/sec\taccuracy=0.900000\n",
      "INFO:root:Epoch[2] Batch [900]\tSpeed: 1686.00 samples/sec\taccuracy=0.900000\n",
      "INFO:root:Epoch[2] Batch [950]\tSpeed: 1676.29 samples/sec\taccuracy=0.900000\n",
      "INFO:root:Epoch[2] Train-accuracy=0.900000\n",
      "INFO:root:Epoch[2] Time cost=29.731\n",
      "INFO:root:Epoch[2] Validation-accuracy=0.900000\n"
     ]
    }
   ],
   "source": [
    "import logging\n",
    "logging.getLogger().setLevel(logging.DEBUG)\n",
    "r18_model.fit(train_data=train_iter, eval_data=val_iter, optimizer='sgd', \n",
    "              optimizer_params={'learning_rate': 0.0001}, eval_metric='acc', \n",
    "              batch_end_callback = mx.callback.Speedometer(batch_size, 50), num_epoch=3)"
   ]
  },
  {
   "cell_type": "code",
   "execution_count": null,
   "metadata": {},
   "outputs": [],
   "source": []
  }
 ],
 "metadata": {
  "kernelspec": {
   "display_name": "Python 3",
   "language": "python",
   "name": "python3"
  },
  "language_info": {
   "codemirror_mode": {
    "name": "ipython",
    "version": 3
   },
   "file_extension": ".py",
   "mimetype": "text/x-python",
   "name": "python",
   "nbconvert_exporter": "python",
   "pygments_lexer": "ipython3",
   "version": "3.6.7"
  },
  "widgets": {
   "state": {},
   "version": "1.1.2"
  }
 },
 "nbformat": 4,
 "nbformat_minor": 2
}
